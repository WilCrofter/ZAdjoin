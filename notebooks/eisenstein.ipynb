{
 "cells": [
  {
   "cell_type": "markdown",
   "metadata": {},
   "source": [
    "# Eisenstein Integers\n",
    "\n",
    "### Kummer Rings\n",
    "\n",
    "A [Kummer Ring](https://en.wikipedia.org/wiki/Kummer_ring), $\\mathbb{Z}[\\zeta],$ is a subring of the complex numbers formed by adjoining a primitive $n^{th}$ root of unity, $\\zeta = e^{\\frac{2\\pi i}{n}},$ to the integers. `KummerModulus(n)` returns a modulus for $\\mathbb{Z}[\\zeta]$ where $\\zeta$ satisfies the $n^{th}$ [cyclotomic polynomial](https://en.wikipedia.org/wiki/Cyclotomic_polynomial), $\\Phi_n(x).$\n",
    "\n",
    "For example, the [Gaussian Integers](https://en.wikipedia.org/wiki/Gaussian_integer) are formed by adjoining a primitive $4^{th}$ root of unity or, equivalently, the square root of $-1.$ Note that $\\Phi_4(x)=1+x^2.$"
   ]
  },
  {
   "cell_type": "code",
   "execution_count": 1,
   "metadata": {
    "collapsed": false
   },
   "outputs": [],
   "source": [
    "include(\"../src/ZAdjoin.jl\") # omit if ZAdjoin is installed as a package\n",
    "using ZAdjoin"
   ]
  },
  {
   "cell_type": "code",
   "execution_count": 2,
   "metadata": {
    "collapsed": false
   },
   "outputs": [
    {
     "data": {
      "text/plain": [
       "ZAdjoin.KummerModulus{Int64}\n",
       "ζ^2 = -1"
      ]
     },
     "execution_count": 2,
     "metadata": {},
     "output_type": "execute_result"
    }
   ],
   "source": [
    "K4 = KummerModulus(4)"
   ]
  },
  {
   "cell_type": "markdown",
   "metadata": {},
   "source": [
    "### Eisenstein Integers\n",
    "\n",
    "The [Eisenstein or Euler integers](https://en.wikipedia.org/wiki/Eisenstein_integer) are formed by adjoining a primitive cube root of 1."
   ]
  },
  {
   "cell_type": "code",
   "execution_count": 3,
   "metadata": {
    "collapsed": false
   },
   "outputs": [
    {
     "data": {
      "text/plain": [
       "ZAdjoin.KummerModulus{Int64}\n",
       "ζ^2 = -1-1ζ"
      ]
     },
     "execution_count": 3,
     "metadata": {},
     "output_type": "execute_result"
    }
   ],
   "source": [
    "K3 = KummerModulus(3)"
   ]
  },
  {
   "cell_type": "markdown",
   "metadata": {},
   "source": [
    "Note that $\\Phi_3(x) = 1+x+x^2.$\n",
    "\n",
    "If $\\zeta$ represents the adjoined element of `K3` (the \"generator\" in the parlance used here), then the general form of an element of $\\mathbb{Z}[\\zeta]$ is $a+b\\zeta.$ The matrix representation of $\\zeta$ is $$\\begin{bmatrix}0 & -1 \\\\ 1 & -1\\end{bmatrix}.$$"
   ]
  },
  {
   "cell_type": "code",
   "execution_count": 4,
   "metadata": {
    "collapsed": false
   },
   "outputs": [
    {
     "data": {
      "text/plain": [
       "2×2 Array{Int64,2}:\n",
       " 0  -1\n",
       " 1  -1"
      ]
     },
     "execution_count": 4,
     "metadata": {},
     "output_type": "execute_result"
    }
   ],
   "source": [
    "ζ = generator(K3)\n",
    "Ζ = Matrix(ζ)"
   ]
  },
  {
   "cell_type": "markdown",
   "metadata": {},
   "source": [
    "The matrix form of $a + b\\zeta$ is thus $$aI+bZ = \\begin{bmatrix}a & -b \\\\ b & a-b \\end{bmatrix}.$$The determinant of this matrix is $a(a-b)+b^2 = a^2+b^2-ab,$ which is identical to the norm of an Eisenstein integer as that norm is conventionally defined.\n",
    "\n",
    "The units (elements with multiplicative inverses) of the Eisenstein integers are $\\pm 1,\\:\\pm\\zeta,\\:\\pm\\zeta^2,$ which are precisely those elements with norm (or determinant) 1. \n",
    "\n",
    "An Eisenstein integer, $y,$ is *prime* if and only if $y=uv$ implies that either $u$ or $v$ is a unit, i.e., its only factors are units and unit multiples of itself. The Eisenstein primes are precisely those elements whose norms (or determinants) are integer primes (primes in $\\mathbb{Z}$) *or* are products of Eisenstein units with integer primes which are congruent to 2 mod 3. [Link](https://en.wikipedia.org/wiki/Eisenstein_integer#Eisenstein_primes).\n"
   ]
  },
  {
   "cell_type": "code",
   "execution_count": 5,
   "metadata": {
    "collapsed": false
   },
   "outputs": [
    {
     "data": {
      "text/plain": [
       "isEisensteinPrime (generic function with 1 method)"
      ]
     },
     "execution_count": 5,
     "metadata": {},
     "output_type": "execute_result"
    }
   ],
   "source": [
    "using Primes\n",
    "\n",
    "function isEisensteinPrime{I}(p::Element{I})\n",
    "    if isprime(det(p)) return true end\n",
    "    ζ = generator(p.modulus)\n",
    "    for unit in [1, ζ, ζ^2]\n",
    "        x = unit*p\n",
    "        if x.coefficients[2] == 0\n",
    "            y = abs(x.coefficients[1])\n",
    "            if isprime(y) && y%3==2\n",
    "                return true\n",
    "            end\n",
    "        end\n",
    "    end\n",
    "    return false\n",
    "end\n",
    "    "
   ]
  },
  {
   "cell_type": "code",
   "execution_count": 6,
   "metadata": {
    "collapsed": false
   },
   "outputs": [
    {
     "data": {
      "text/plain": [
       "true"
      ]
     },
     "execution_count": 6,
     "metadata": {},
     "output_type": "execute_result"
    }
   ],
   "source": [
    "isEisensteinPrime(1+2ζ)"
   ]
  },
  {
   "cell_type": "code",
   "execution_count": 7,
   "metadata": {
    "collapsed": false
   },
   "outputs": [
    {
     "data": {
      "text/plain": [
       "true"
      ]
     },
     "execution_count": 7,
     "metadata": {},
     "output_type": "execute_result"
    }
   ],
   "source": [
    "isEisensteinPrime(11*ζ^2)"
   ]
  },
  {
   "cell_type": "code",
   "execution_count": 8,
   "metadata": {
    "collapsed": false
   },
   "outputs": [
    {
     "data": {
      "text/plain": [
       "true"
      ]
     },
     "execution_count": 8,
     "metadata": {},
     "output_type": "execute_result"
    }
   ],
   "source": [
    "isEisensteinPrime(5+6ζ)"
   ]
  },
  {
   "cell_type": "code",
   "execution_count": 9,
   "metadata": {
    "collapsed": false
   },
   "outputs": [
    {
     "data": {
      "text/plain": [
       "false"
      ]
     },
     "execution_count": 9,
     "metadata": {},
     "output_type": "execute_result"
    }
   ],
   "source": [
    "isEisensteinPrime(5+11ζ)"
   ]
  },
  {
   "cell_type": "code",
   "execution_count": 10,
   "metadata": {
    "collapsed": false
   },
   "outputs": [
    {
     "data": {
      "text/plain": [
       "false"
      ]
     },
     "execution_count": 10,
     "metadata": {},
     "output_type": "execute_result"
    }
   ],
   "source": [
    "isEisensteinPrime(7ζ)"
   ]
  }
 ],
 "metadata": {
  "kernelspec": {
   "display_name": "Julia 0.5.2",
   "language": "julia",
   "name": "julia-0.5"
  },
  "language_info": {
   "file_extension": ".jl",
   "mimetype": "application/julia",
   "name": "julia",
   "version": "0.5.2"
  }
 },
 "nbformat": 4,
 "nbformat_minor": 0
}
